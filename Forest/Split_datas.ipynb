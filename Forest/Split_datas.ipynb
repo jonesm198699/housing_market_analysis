{
 "cells": [
  {
   "cell_type": "code",
   "execution_count": 1,
   "id": "723ae76e",
   "metadata": {},
   "outputs": [
    {
     "name": "stderr",
     "output_type": "stream",
     "text": [
      "\n",
      "Bad key \"text.kerning_factor\" on line 4 in\n",
      "/Users/mark/opt/anaconda3/envs/PythonData/lib/python3.7/site-packages/matplotlib/mpl-data/stylelib/_classic_test_patch.mplstyle.\n",
      "You probably need to get an updated matplotlibrc file from\n",
      "https://github.com/matplotlib/matplotlib/blob/v3.1.3/matplotlibrc.template\n",
      "or from the matplotlib source distribution\n"
     ]
    }
   ],
   "source": [
    "import pandas as pd\n",
    "from pathlib import Path\n",
    "import seaborn as sns \n",
    "import matplotlib.pyplot as plt\n",
    "from sklearn.ensemble import RandomForestClassifier\n",
    "import numpy as np\n",
    "from sklearn.preprocessing import StandardScaler\n",
    "from sklearn.model_selection import train_test_split\n",
    "from sklearn.metrics import confusion_matrix, accuracy_score, classification_report\n",
    "%matplotlib inline"
   ]
  },
  {
   "cell_type": "code",
   "execution_count": 2,
   "id": "99e55474",
   "metadata": {},
   "outputs": [],
   "source": [
    "file = \"melb_data.csv\""
   ]
  },
  {
   "cell_type": "code",
   "execution_count": 3,
   "id": "00935c74",
   "metadata": {},
   "outputs": [
    {
     "data": {
      "text/html": [
       "<div>\n",
       "<style scoped>\n",
       "    .dataframe tbody tr th:only-of-type {\n",
       "        vertical-align: middle;\n",
       "    }\n",
       "\n",
       "    .dataframe tbody tr th {\n",
       "        vertical-align: top;\n",
       "    }\n",
       "\n",
       "    .dataframe thead th {\n",
       "        text-align: right;\n",
       "    }\n",
       "</style>\n",
       "<table border=\"1\" class=\"dataframe\">\n",
       "  <thead>\n",
       "    <tr style=\"text-align: right;\">\n",
       "      <th></th>\n",
       "      <th>Suburb</th>\n",
       "      <th>Address</th>\n",
       "      <th>Rooms</th>\n",
       "      <th>Type</th>\n",
       "      <th>Price</th>\n",
       "      <th>Method</th>\n",
       "      <th>SellerG</th>\n",
       "      <th>Date</th>\n",
       "      <th>Distance</th>\n",
       "      <th>Postcode</th>\n",
       "      <th>...</th>\n",
       "      <th>Bathroom</th>\n",
       "      <th>Car</th>\n",
       "      <th>Landsize</th>\n",
       "      <th>BuildingArea</th>\n",
       "      <th>YearBuilt</th>\n",
       "      <th>CouncilArea</th>\n",
       "      <th>Lattitude</th>\n",
       "      <th>Longtitude</th>\n",
       "      <th>Regionname</th>\n",
       "      <th>Propertycount</th>\n",
       "    </tr>\n",
       "  </thead>\n",
       "  <tbody>\n",
       "    <tr>\n",
       "      <th>0</th>\n",
       "      <td>Abbotsford</td>\n",
       "      <td>85 Turner St</td>\n",
       "      <td>2</td>\n",
       "      <td>h</td>\n",
       "      <td>1480000.0</td>\n",
       "      <td>S</td>\n",
       "      <td>Biggin</td>\n",
       "      <td>3/12/2016</td>\n",
       "      <td>2.5</td>\n",
       "      <td>3067.0</td>\n",
       "      <td>...</td>\n",
       "      <td>1.0</td>\n",
       "      <td>1.0</td>\n",
       "      <td>202.0</td>\n",
       "      <td>NaN</td>\n",
       "      <td>NaN</td>\n",
       "      <td>Yarra</td>\n",
       "      <td>-37.7996</td>\n",
       "      <td>144.9984</td>\n",
       "      <td>Northern Metropolitan</td>\n",
       "      <td>4019.0</td>\n",
       "    </tr>\n",
       "    <tr>\n",
       "      <th>1</th>\n",
       "      <td>Abbotsford</td>\n",
       "      <td>25 Bloomburg St</td>\n",
       "      <td>2</td>\n",
       "      <td>h</td>\n",
       "      <td>1035000.0</td>\n",
       "      <td>S</td>\n",
       "      <td>Biggin</td>\n",
       "      <td>4/02/2016</td>\n",
       "      <td>2.5</td>\n",
       "      <td>3067.0</td>\n",
       "      <td>...</td>\n",
       "      <td>1.0</td>\n",
       "      <td>0.0</td>\n",
       "      <td>156.0</td>\n",
       "      <td>79.0</td>\n",
       "      <td>1900.0</td>\n",
       "      <td>Yarra</td>\n",
       "      <td>-37.8079</td>\n",
       "      <td>144.9934</td>\n",
       "      <td>Northern Metropolitan</td>\n",
       "      <td>4019.0</td>\n",
       "    </tr>\n",
       "    <tr>\n",
       "      <th>2</th>\n",
       "      <td>Abbotsford</td>\n",
       "      <td>5 Charles St</td>\n",
       "      <td>3</td>\n",
       "      <td>h</td>\n",
       "      <td>1465000.0</td>\n",
       "      <td>SP</td>\n",
       "      <td>Biggin</td>\n",
       "      <td>4/03/2017</td>\n",
       "      <td>2.5</td>\n",
       "      <td>3067.0</td>\n",
       "      <td>...</td>\n",
       "      <td>2.0</td>\n",
       "      <td>0.0</td>\n",
       "      <td>134.0</td>\n",
       "      <td>150.0</td>\n",
       "      <td>1900.0</td>\n",
       "      <td>Yarra</td>\n",
       "      <td>-37.8093</td>\n",
       "      <td>144.9944</td>\n",
       "      <td>Northern Metropolitan</td>\n",
       "      <td>4019.0</td>\n",
       "    </tr>\n",
       "    <tr>\n",
       "      <th>3</th>\n",
       "      <td>Abbotsford</td>\n",
       "      <td>40 Federation La</td>\n",
       "      <td>3</td>\n",
       "      <td>h</td>\n",
       "      <td>850000.0</td>\n",
       "      <td>PI</td>\n",
       "      <td>Biggin</td>\n",
       "      <td>4/03/2017</td>\n",
       "      <td>2.5</td>\n",
       "      <td>3067.0</td>\n",
       "      <td>...</td>\n",
       "      <td>2.0</td>\n",
       "      <td>1.0</td>\n",
       "      <td>94.0</td>\n",
       "      <td>NaN</td>\n",
       "      <td>NaN</td>\n",
       "      <td>Yarra</td>\n",
       "      <td>-37.7969</td>\n",
       "      <td>144.9969</td>\n",
       "      <td>Northern Metropolitan</td>\n",
       "      <td>4019.0</td>\n",
       "    </tr>\n",
       "    <tr>\n",
       "      <th>4</th>\n",
       "      <td>Abbotsford</td>\n",
       "      <td>55a Park St</td>\n",
       "      <td>4</td>\n",
       "      <td>h</td>\n",
       "      <td>1600000.0</td>\n",
       "      <td>VB</td>\n",
       "      <td>Nelson</td>\n",
       "      <td>4/06/2016</td>\n",
       "      <td>2.5</td>\n",
       "      <td>3067.0</td>\n",
       "      <td>...</td>\n",
       "      <td>1.0</td>\n",
       "      <td>2.0</td>\n",
       "      <td>120.0</td>\n",
       "      <td>142.0</td>\n",
       "      <td>2014.0</td>\n",
       "      <td>Yarra</td>\n",
       "      <td>-37.8072</td>\n",
       "      <td>144.9941</td>\n",
       "      <td>Northern Metropolitan</td>\n",
       "      <td>4019.0</td>\n",
       "    </tr>\n",
       "  </tbody>\n",
       "</table>\n",
       "<p>5 rows × 21 columns</p>\n",
       "</div>"
      ],
      "text/plain": [
       "       Suburb           Address  Rooms Type      Price Method SellerG  \\\n",
       "0  Abbotsford      85 Turner St      2    h  1480000.0      S  Biggin   \n",
       "1  Abbotsford   25 Bloomburg St      2    h  1035000.0      S  Biggin   \n",
       "2  Abbotsford      5 Charles St      3    h  1465000.0     SP  Biggin   \n",
       "3  Abbotsford  40 Federation La      3    h   850000.0     PI  Biggin   \n",
       "4  Abbotsford       55a Park St      4    h  1600000.0     VB  Nelson   \n",
       "\n",
       "        Date  Distance  Postcode  ...  Bathroom  Car  Landsize  BuildingArea  \\\n",
       "0  3/12/2016       2.5    3067.0  ...       1.0  1.0     202.0           NaN   \n",
       "1  4/02/2016       2.5    3067.0  ...       1.0  0.0     156.0          79.0   \n",
       "2  4/03/2017       2.5    3067.0  ...       2.0  0.0     134.0         150.0   \n",
       "3  4/03/2017       2.5    3067.0  ...       2.0  1.0      94.0           NaN   \n",
       "4  4/06/2016       2.5    3067.0  ...       1.0  2.0     120.0         142.0   \n",
       "\n",
       "   YearBuilt  CouncilArea Lattitude  Longtitude             Regionname  \\\n",
       "0        NaN        Yarra  -37.7996    144.9984  Northern Metropolitan   \n",
       "1     1900.0        Yarra  -37.8079    144.9934  Northern Metropolitan   \n",
       "2     1900.0        Yarra  -37.8093    144.9944  Northern Metropolitan   \n",
       "3        NaN        Yarra  -37.7969    144.9969  Northern Metropolitan   \n",
       "4     2014.0        Yarra  -37.8072    144.9941  Northern Metropolitan   \n",
       "\n",
       "  Propertycount  \n",
       "0        4019.0  \n",
       "1        4019.0  \n",
       "2        4019.0  \n",
       "3        4019.0  \n",
       "4        4019.0  \n",
       "\n",
       "[5 rows x 21 columns]"
      ]
     },
     "execution_count": 3,
     "metadata": {},
     "output_type": "execute_result"
    }
   ],
   "source": [
    "df_train = pd.read_csv(file)\n",
    "df_train.head()\n"
   ]
  },
  {
   "cell_type": "code",
   "execution_count": 4,
   "id": "d16ec547",
   "metadata": {},
   "outputs": [
    {
     "data": {
      "text/plain": [
       "(13580, 21)"
      ]
     },
     "execution_count": 4,
     "metadata": {},
     "output_type": "execute_result"
    }
   ],
   "source": [
    "df_train.shape"
   ]
  },
  {
   "cell_type": "code",
   "execution_count": 5,
   "id": "cf04409c",
   "metadata": {},
   "outputs": [
    {
     "name": "stdout",
     "output_type": "stream",
     "text": [
      "Suburb                   object\n",
      "Address                  object\n",
      "Rooms                     int64\n",
      "Type                     object\n",
      "Price                   float64\n",
      "Method                   object\n",
      "SellerG                  object\n",
      "Date             datetime64[ns]\n",
      "Distance                float64\n",
      "Postcode                float64\n",
      "Bedroom2                float64\n",
      "Bathroom                float64\n",
      "Car                     float64\n",
      "Landsize                float64\n",
      "BuildingArea            float64\n",
      "YearBuilt               float64\n",
      "CouncilArea              object\n",
      "Lattitude               float64\n",
      "Longtitude              float64\n",
      "Regionname               object\n",
      "Propertycount           float64\n",
      "dtype: object\n"
     ]
    }
   ],
   "source": [
    "df_train[\"Date\"] = pd.to_datetime(df_train[\"Date\"])\n",
    "print (df_train.dtypes)"
   ]
  },
  {
   "cell_type": "code",
   "execution_count": 6,
   "id": "45f7315d",
   "metadata": {},
   "outputs": [
    {
     "data": {
      "text/plain": [
       "Suburb              0\n",
       "Address             0\n",
       "Rooms               0\n",
       "Type                0\n",
       "Price               0\n",
       "Method              0\n",
       "SellerG             0\n",
       "Date                0\n",
       "Distance            0\n",
       "Postcode            0\n",
       "Bedroom2            0\n",
       "Bathroom            0\n",
       "Car                62\n",
       "Landsize            0\n",
       "BuildingArea     6450\n",
       "YearBuilt        5375\n",
       "CouncilArea      1369\n",
       "Lattitude           0\n",
       "Longtitude          0\n",
       "Regionname          0\n",
       "Propertycount       0\n",
       "dtype: int64"
      ]
     },
     "execution_count": 6,
     "metadata": {},
     "output_type": "execute_result"
    }
   ],
   "source": [
    "df_train.isna().sum()"
   ]
  },
  {
   "cell_type": "code",
   "execution_count": 7,
   "id": "62204fe6",
   "metadata": {},
   "outputs": [
    {
     "name": "stdout",
     "output_type": "stream",
     "text": [
      "Car \t\t 0.005 %\n",
      "BuildingArea \t\t 0.475 %\n",
      "YearBuilt \t\t 0.396 %\n",
      "CouncilArea \t\t 0.101 %\n"
     ]
    }
   ],
   "source": [
    "naN_features = [features for features in df_train.columns if df_train[features].isnull().sum()>1]\n",
    "for feature in naN_features:\n",
    "    print(feature,'\\t\\t', np.round(df_train[feature].isnull().mean(),3), '%')"
   ]
  },
  {
   "cell_type": "code",
   "execution_count": 8,
   "id": "a0fed4e3",
   "metadata": {},
   "outputs": [],
   "source": [
    "df_train = df_train.dropna(axis=0)"
   ]
  },
  {
   "cell_type": "code",
   "execution_count": 9,
   "id": "a288fbf7",
   "metadata": {},
   "outputs": [
    {
     "data": {
      "text/plain": [
       "(6196, 21)"
      ]
     },
     "execution_count": 9,
     "metadata": {},
     "output_type": "execute_result"
    }
   ],
   "source": [
    "df_train.shape"
   ]
  },
  {
   "cell_type": "code",
   "execution_count": 12,
   "id": "d627eb98",
   "metadata": {},
   "outputs": [
    {
     "name": "stdout",
     "output_type": "stream",
     "text": [
      "\n",
      "80% of the given DataFrame:\n",
      "               Suburb            Address  Rooms Type      Price Method  \\\n",
      "11150          Ormond  22/30 Lillimur Rd      1    u   370000.0      S   \n",
      "6363           Toorak  7a Woorigoleen Rd      3    t  2650000.0     VB   \n",
      "6487     Williamstown      54 Twyford St      3    h  1535000.0      S   \n",
      "9064   Brunswick East      271 Edward St      2    h  1105000.0      S   \n",
      "10908       Bentleigh     15A Windsor Av      4    t  1750000.0      S   \n",
      "...               ...                ...    ...  ...        ...    ...   \n",
      "6803   Brunswick East    120 Victoria St      3    h  1325000.0     PI   \n",
      "3441      Keilor East      1 Giuliano Ct      3    h   700000.0     VB   \n",
      "7286           Albion       25 Sydney St      4    h   816000.0      S   \n",
      "8265          Preston     31 Benambra St      3    h   800000.0     PI   \n",
      "1962           Coburg   11/5 Industry La      2    u   485000.0     VB   \n",
      "\n",
      "             SellerG       Date  Distance  Postcode  ...  Bathroom  Car  \\\n",
      "11150       Woodards 2017-12-08      11.4    3204.0  ...       1.0  1.0   \n",
      "6363          Jellis 2016-10-09       4.6    3142.0  ...       3.0  2.0   \n",
      "6487            Greg 2016-03-09       8.0    3016.0  ...       1.0  1.0   \n",
      "9064          Nelson 2017-03-06       4.0    3057.0  ...       1.0  2.0   \n",
      "10908         Buxton 2017-12-08      11.4    3204.0  ...       3.0  2.0   \n",
      "...              ...        ...       ...       ...  ...       ...  ...   \n",
      "6803          Jellis 2016-11-27       4.5    3057.0  ...       2.0  2.0   \n",
      "3441          Nelson 2017-04-03      12.8    3033.0  ...       2.0  2.0   \n",
      "7286           Bells 2016-10-09      13.9    3020.0  ...       1.0  2.0   \n",
      "8265   hockingstuart 2017-05-13       8.8    3072.0  ...       2.0  2.0   \n",
      "1962          Nelson 2016-04-16       7.8    3058.0  ...       2.0  1.0   \n",
      "\n",
      "       Landsize  BuildingArea  YearBuilt    CouncilArea Lattitude  Longtitude  \\\n",
      "11150    2029.0          54.0     2009.0      Glen Eira -37.90143   145.04184   \n",
      "6363        0.0         291.0     2000.0    Stonnington -37.84280   145.01710   \n",
      "6487      507.0         186.0     1910.0    Hobsons Bay -37.86810   144.89940   \n",
      "9064      173.0          79.0     1890.0       Moreland -37.77524   144.97529   \n",
      "10908     429.0         262.0     2013.0      Glen Eira -37.91582   145.04800   \n",
      "...         ...           ...        ...            ...       ...         ...   \n",
      "6803      190.0         135.0     1940.0       Moreland -37.76840   144.97390   \n",
      "3441      288.0         116.0     1999.0  Moonee Valley -37.75140   144.87310   \n",
      "7286      837.0         156.0     1930.0       Brimbank -37.78250   144.82210   \n",
      "8265      319.0         124.0     1940.0        Darebin -37.73340   144.98730   \n",
      "1962        0.0          96.0     1880.0       Moreland -37.73670   144.97010   \n",
      "\n",
      "                  Regionname Propertycount  \n",
      "11150  Southern Metropolitan        3578.0  \n",
      "6363   Southern Metropolitan        7217.0  \n",
      "6487    Western Metropolitan        6380.0  \n",
      "9064   Northern Metropolitan        5533.0  \n",
      "10908  Southern Metropolitan        6795.0  \n",
      "...                      ...           ...  \n",
      "6803   Northern Metropolitan        5533.0  \n",
      "3441    Western Metropolitan        5629.0  \n",
      "7286    Western Metropolitan        2185.0  \n",
      "8265   Northern Metropolitan       14577.0  \n",
      "1962   Northern Metropolitan       11204.0  \n",
      "\n",
      "[4957 rows x 21 columns]\n",
      "\n",
      "rest 20% of the given DataFrame:\n",
      "                  Suburb            Address  Rooms Type      Price Method  \\\n",
      "1             Abbotsford    25 Bloomburg St      2    h  1035000.0      S   \n",
      "25            Abbotsford         49 Park St      2    h  1315000.0      S   \n",
      "44          Airport West   2/49 McIntosh St      2    u   500000.0     VB   \n",
      "52          Airport West        13 Etzel St      3    h   805000.0      S   \n",
      "61          Airport West     138 Victory Rd      3    h  1042000.0      S   \n",
      "...                  ...                ...    ...  ...        ...    ...   \n",
      "12181  Templestowe Lower    13 Melaleuca Av      6    h  2000000.0     VB   \n",
      "12183         Thomastown     2/1 Charles St      2    u   407000.0      S   \n",
      "12187        Tullamarine   1/171 Melrose Dr      3    h   615500.0      S   \n",
      "12199           Werribee  13b Kingfisher Ct      3    u   394000.0     PI   \n",
      "12212         Yarraville    54 Pentland Pde      6    h  2450000.0     VB   \n",
      "\n",
      "             SellerG       Date  Distance  Postcode  ...  Bathroom  Car  \\\n",
      "1             Biggin 2016-04-02       2.5    3067.0  ...       1.0  0.0   \n",
      "25          Marshall 2016-11-19       2.5    3067.0  ...       1.0  0.0   \n",
      "44             Barry 2017-04-03      13.5    3042.0  ...       1.0  1.0   \n",
      "52            Nelson 2016-10-12      13.5    3042.0  ...       1.0  1.0   \n",
      "61            Nelson 2016-07-16      13.5    3042.0  ...       2.0  5.0   \n",
      "...              ...        ...       ...       ...  ...       ...  ...   \n",
      "12181          Barry 2017-07-29      12.4    3107.0  ...       3.0  2.0   \n",
      "12183            HAR 2017-07-29      15.3    3074.0  ...       1.0  1.0   \n",
      "12187  hockingstuart 2017-07-29      12.9    3043.0  ...       2.0  1.0   \n",
      "12199  hockingstuart 2017-07-29      14.7    3030.0  ...       2.0  4.0   \n",
      "12212        Village 2017-07-29       6.3    3013.0  ...       3.0  2.0   \n",
      "\n",
      "       Landsize  BuildingArea  YearBuilt    CouncilArea Lattitude  Longtitude  \\\n",
      "1         156.0          79.0     1900.0          Yarra -37.80790   144.99340   \n",
      "25        147.0          85.0     1900.0          Yarra -37.80800   144.99400   \n",
      "44        168.0          86.0     2011.0  Moonee Valley -37.72150   144.88640   \n",
      "52          0.0         105.0     1950.0  Moonee Valley -37.72170   144.87830   \n",
      "61        612.0         174.0     1950.0  Moonee Valley -37.71730   144.87960   \n",
      "...         ...           ...        ...            ...       ...         ...   \n",
      "12181    1054.0         235.0     1970.0     Manningham -37.77404   145.11703   \n",
      "12183     140.0          78.0     2010.0     Whittlesea -37.68199   145.01744   \n",
      "12187     238.0         118.0     2011.0           Hume -37.70322   144.88236   \n",
      "12199     287.0         137.0     2013.0        Wyndham -37.87895   144.67070   \n",
      "12212    1087.0         388.5     1920.0    Maribyrnong -37.81038   144.89389   \n",
      "\n",
      "                  Regionname Propertycount  \n",
      "1      Northern Metropolitan        4019.0  \n",
      "25     Northern Metropolitan        4019.0  \n",
      "44      Western Metropolitan        3464.0  \n",
      "52      Western Metropolitan        3464.0  \n",
      "61      Western Metropolitan        3464.0  \n",
      "...                      ...           ...  \n",
      "12181   Eastern Metropolitan        5420.0  \n",
      "12183  Northern Metropolitan        7955.0  \n",
      "12187   Western Metropolitan        3296.0  \n",
      "12199   Western Metropolitan       16166.0  \n",
      "12212   Western Metropolitan        6543.0  \n",
      "\n",
      "[1239 rows x 21 columns]\n"
     ]
    }
   ],
   "source": [
    "part_80 = df_train.sample(frac = 0.8)\n",
    " \n",
    "# Creating dataframe with\n",
    "# rest of the 50% values\n",
    "rest_part_20 = df_train.drop(part_80.index)\n",
    " \n",
    "print(\"\\n80% of the given DataFrame:\")\n",
    "print(part_80)\n",
    " \n",
    "print(\"\\nrest 20% of the given DataFrame:\")\n",
    "print(rest_part_20)\n"
   ]
  },
  {
   "cell_type": "code",
   "execution_count": 13,
   "id": "945b7ba6",
   "metadata": {},
   "outputs": [],
   "source": [
    "train_df = pd.DataFrame(part_80)"
   ]
  },
  {
   "cell_type": "code",
   "execution_count": 17,
   "id": "a0f9d224",
   "metadata": {},
   "outputs": [],
   "source": [
    "test_df = pd.DataFrame(rest_part_20)"
   ]
  },
  {
   "cell_type": "code",
   "execution_count": 18,
   "id": "3316d000",
   "metadata": {},
   "outputs": [],
   "source": [
    "train_df.to_csv('Resources/train_df.csv')  \n",
    "test_df.to_csv('Resources/test_df.csv')"
   ]
  },
  {
   "cell_type": "code",
   "execution_count": null,
   "id": "389636dc",
   "metadata": {},
   "outputs": [],
   "source": []
  }
 ],
 "metadata": {
  "kernelspec": {
   "display_name": "PythonData",
   "language": "python",
   "name": "pythondata"
  },
  "language_info": {
   "codemirror_mode": {
    "name": "ipython",
    "version": 3
   },
   "file_extension": ".py",
   "mimetype": "text/x-python",
   "name": "python",
   "nbconvert_exporter": "python",
   "pygments_lexer": "ipython3",
   "version": "3.7.7"
  }
 },
 "nbformat": 4,
 "nbformat_minor": 5
}
